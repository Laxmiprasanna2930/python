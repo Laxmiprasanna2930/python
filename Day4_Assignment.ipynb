{
  "nbformat": 4,
  "nbformat_minor": 0,
  "metadata": {
    "colab": {
      "provenance": [],
      "include_colab_link": true
    },
    "kernelspec": {
      "name": "python3",
      "display_name": "Python 3"
    },
    "language_info": {
      "name": "python"
    }
  },
  "cells": [
    {
      "cell_type": "markdown",
      "metadata": {
        "id": "view-in-github",
        "colab_type": "text"
      },
      "source": [
        "<a href=\"https://colab.research.google.com/github/Laxmiprasanna2930/python/blob/main/Day4_Assignment.ipynb\" target=\"_parent\"><img src=\"https://colab.research.google.com/assets/colab-badge.svg\" alt=\"Open In Colab\"/></a>"
      ]
    },
    {
      "cell_type": "markdown",
      "source": [
        "`Good morning, wish you all the best,.All the 3 assignment has been included here only`"
      ],
      "metadata": {
        "id": "jWYB760w4xUu"
      }
    },
    {
      "cell_type": "markdown",
      "source": [
        "# Part ONe"
      ],
      "metadata": {
        "id": "uRvHq6WK1iip"
      }
    },
    {
      "cell_type": "markdown",
      "source": [
        "## 1. Create a function that sum only the float number from a given hetrogenous list"
      ],
      "metadata": {
        "id": "xpZzcKAyyb6V"
      }
    },
    {
      "cell_type": "code",
      "source": [
        "def sum_floats(list1):\n",
        "  float_sum=0.0\n",
        "  for n in list1:\n",
        "    if isinstance(n,float):\n",
        "      float_sum+=n\n",
        "  return float_sum\n",
        "list1=[1,3.5,\"abhi\",8,7.5,\"abc\",3,2.2]\n",
        "res=sum_floats(list1)\n",
        "print(res)"
      ],
      "metadata": {
        "id": "eLlEJRxTy8_f",
        "colab": {
          "base_uri": "https://localhost:8080/"
        },
        "outputId": "2dfeb21c-4b9c-43e2-c883-7b1f4f46049b"
      },
      "execution_count": null,
      "outputs": [
        {
          "output_type": "stream",
          "name": "stdout",
          "text": [
            "13.2\n"
          ]
        }
      ]
    },
    {
      "cell_type": "code",
      "source": [
        "# reverse the list using the loop\n",
        "def rev_list(list2):\n",
        "  rev_list=[]\n",
        "  for i in range(len(list2)-1,-1,-1):\n",
        "    rev_list.append(list2[i])\n",
        "  return rev_list\n",
        "list3=[1,2,3,4,'abhi',5,6]\n",
        "res=rev_list(list3)\n",
        "print(res)"
      ],
      "metadata": {
        "id": "TO6D3KTSy9-x",
        "colab": {
          "base_uri": "https://localhost:8080/"
        },
        "outputId": "2353436c-6994-4de5-f742-7dc082c4b3c5"
      },
      "execution_count": null,
      "outputs": [
        {
          "output_type": "stream",
          "name": "stdout",
          "text": [
            "[6, 5, 'abhi', 4, 3, 2, 1]\n"
          ]
        }
      ]
    },
    {
      "cell_type": "markdown",
      "source": [
        "## 2. Count the total number of digit using the loop"
      ],
      "metadata": {
        "id": "MxMyCaZHzEB-"
      }
    },
    {
      "cell_type": "code",
      "source": [
        "num=1234567\n",
        "c=0\n",
        "while num!=0:\n",
        "  num//=10\n",
        "  c+=1\n",
        "print(f'Total number of digits:{c}')"
      ],
      "metadata": {
        "id": "DZYJiYdQzcVv",
        "colab": {
          "base_uri": "https://localhost:8080/"
        },
        "outputId": "ad9d2ce8-d107-49fd-c392-67a36cf18d38"
      },
      "execution_count": null,
      "outputs": [
        {
          "output_type": "stream",
          "name": "stdout",
          "text": [
            "Total number of digits:7\n"
          ]
        }
      ]
    },
    {
      "cell_type": "markdown",
      "source": [
        "## 3. Display this\n",
        "5 4 3 2 1\n",
        "\n",
        "4 3 2 1\n",
        "\n",
        "3 2 1\n",
        "\n",
        "2 1\n",
        "\n",
        "1"
      ],
      "metadata": {
        "id": "kG8Phx7VzYWD"
      }
    },
    {
      "cell_type": "code",
      "source": [
        "rows=5\n",
        "for i in range(rows,0,-1):\n",
        "  for j in range(i,0,-1):\n",
        "    print(j,end=\" \")\n",
        "  print()"
      ],
      "metadata": {
        "colab": {
          "base_uri": "https://localhost:8080/"
        },
        "id": "izur6UTTw8gI",
        "outputId": "f0685824-dee7-4f50-fbbf-011194bfe63e"
      },
      "execution_count": null,
      "outputs": [
        {
          "output_type": "stream",
          "name": "stdout",
          "text": [
            "5 4 3 2 1 \n",
            "4 3 2 1 \n",
            "3 2 1 \n",
            "2 1 \n",
            "1 \n"
          ]
        }
      ]
    },
    {
      "cell_type": "markdown",
      "source": [
        "## 4. Display this"
      ],
      "metadata": {
        "id": "xTaGWpQXzy-M"
      }
    },
    {
      "cell_type": "code",
      "source": [
        "*\n",
        "* *\n",
        "* * *\n",
        "* * * *\n",
        "* * * * *\n",
        "* * * *\n",
        "* * *\n",
        "* *\n",
        "*"
      ],
      "metadata": {
        "id": "ixPmbjRfzx16"
      },
      "execution_count": null,
      "outputs": []
    },
    {
      "cell_type": "code",
      "source": [
        "rows=5\n",
        "for i in range(1,rows+1):\n",
        "  for j in range(1,i+1):\n",
        "    print(\"*\",end=\" \")\n",
        "  print()\n",
        "for i in range(rows-1,0,-1):\n",
        " for j in range(1,i+1):\n",
        "    print(\"*\",end=\" \")\n",
        " print()\n"
      ],
      "metadata": {
        "colab": {
          "base_uri": "https://localhost:8080/"
        },
        "id": "E1XyZ1tP7Pb9",
        "outputId": "be4a0ebb-698d-41e5-f600-e9ab634386a3"
      },
      "execution_count": null,
      "outputs": [
        {
          "output_type": "stream",
          "name": "stdout",
          "text": [
            "* \n",
            "* * \n",
            "* * * \n",
            "* * * * \n",
            "* * * * * \n",
            "* * * * \n",
            "* * * \n",
            "* * \n",
            "* \n"
          ]
        }
      ]
    },
    {
      "cell_type": "markdown",
      "source": [
        "## 5. Write function that generate multiplication table upto a given range in Python"
      ],
      "metadata": {
        "id": "1OYQk9N70Ax3"
      }
    },
    {
      "cell_type": "code",
      "source": [
        "def mul_table(n):\n",
        "  for i in range(1,n+1):\n",
        "    for j in range(1,11):\n",
        "      res=i*j\n",
        "      print(f\"{i} x {j} = {res}\")\n",
        "    print()\n",
        "mul_table(2)"
      ],
      "metadata": {
        "id": "NeosDqO904-u",
        "colab": {
          "base_uri": "https://localhost:8080/"
        },
        "outputId": "7a17c797-ee9e-4898-a8a5-4730b42b79f1"
      },
      "execution_count": null,
      "outputs": [
        {
          "output_type": "stream",
          "name": "stdout",
          "text": [
            "1 x 1 = 1\n",
            "1 x 2 = 2\n",
            "1 x 3 = 3\n",
            "1 x 4 = 4\n",
            "1 x 5 = 5\n",
            "1 x 6 = 6\n",
            "1 x 7 = 7\n",
            "1 x 8 = 8\n",
            "1 x 9 = 9\n",
            "1 x 10 = 10\n",
            "\n",
            "2 x 1 = 2\n",
            "2 x 2 = 4\n",
            "2 x 3 = 6\n",
            "2 x 4 = 8\n",
            "2 x 5 = 10\n",
            "2 x 6 = 12\n",
            "2 x 7 = 14\n",
            "2 x 8 = 16\n",
            "2 x 9 = 18\n",
            "2 x 10 = 20\n",
            "\n"
          ]
        }
      ]
    },
    {
      "cell_type": "code",
      "source": [
        "# what are the difference between the list comprehension and loop??"
      ],
      "metadata": {
        "id": "V9z-kXUi0468"
      },
      "execution_count": null,
      "outputs": []
    },
    {
      "cell_type": "code",
      "source": [
        "# List comprehension\n",
        "squares_comp=[x**2 for x in range(5)]\n",
        "print(squares_comp)\n",
        "# Loop\n",
        "squares_loop=[]\n",
        "for x in range(5):\n",
        "  squares_loop.append(x**2)\n",
        "print(squares_loop)"
      ],
      "metadata": {
        "colab": {
          "base_uri": "https://localhost:8080/"
        },
        "id": "cpNQ-9-hK60x",
        "outputId": "f568cbfc-9955-4cee-9fea-0f6a7f215fbf"
      },
      "execution_count": null,
      "outputs": [
        {
          "output_type": "stream",
          "name": "stdout",
          "text": [
            "[0, 1, 4, 9, 16]\n",
            "[0, 1, 4, 9, 16]\n"
          ]
        }
      ]
    },
    {
      "cell_type": "markdown",
      "source": [
        "# Part two"
      ],
      "metadata": {
        "id": "HrRqpK9A1mvj"
      }
    },
    {
      "cell_type": "markdown",
      "source": [
        "## 6. Write a python program for the palindrome checker using the loop"
      ],
      "metadata": {
        "id": "T36QPuxw1pfo"
      }
    },
    {
      "cell_type": "code",
      "source": [
        "def is_palindrome(word):\n",
        "  a=''.join(word.split()).lower()\n",
        "  for i in range(len(a)//2):\n",
        "    if a[i]!=a[len(a)-1-i]:\n",
        "      return False\n",
        "  return True\n",
        "input=\"121\"\n",
        "res=is_palindrome(input)\n",
        "if res:\n",
        "  print(f\"{input} is a palindrome.\")\n",
        "else:\n",
        "  print(f\"{input} is not a palindrome.\")"
      ],
      "metadata": {
        "id": "5k_AjmF_2c6r",
        "colab": {
          "base_uri": "https://localhost:8080/"
        },
        "outputId": "2b8c7046-10b7-4c05-af03-e1703cc776b5"
      },
      "execution_count": null,
      "outputs": [
        {
          "output_type": "stream",
          "name": "stdout",
          "text": [
            "121 is a palindrome.\n"
          ]
        }
      ]
    },
    {
      "cell_type": "markdown",
      "source": [
        "## 7. Factorial Calculation\n",
        "Write a program that calculates the factorial of a given number using a loop. The user should input the number, and the program should display its factorial."
      ],
      "metadata": {
        "id": "QLZ4Dc1O1zHm"
      }
    },
    {
      "cell_type": "code",
      "source": [
        "a = int(input(\"enter number:\"))\n",
        "fact_res=1\n",
        "for i in range(1,a+1):\n",
        "  fact_res*=i\n",
        "print(f\" The factorial of {a} is: {fact_res}\")\n"
      ],
      "metadata": {
        "id": "XJZCGK0s2LYV",
        "colab": {
          "base_uri": "https://localhost:8080/"
        },
        "outputId": "21a0e84e-fd40-4373-d40b-22ff9ee29eb5"
      },
      "execution_count": null,
      "outputs": [
        {
          "output_type": "stream",
          "name": "stdout",
          "text": [
            "enter number:5\n",
            " The factorial of 5 is: 120\n"
          ]
        }
      ]
    },
    {
      "cell_type": "markdown",
      "source": [
        "## 8. Binary to Decimal Converter\n",
        "Create a program that converts a binary number (entered by the user) to its decimal equivalent. The user should input the binary number as a string, and the program should output its decimal equivalent."
      ],
      "metadata": {
        "id": "dAX_1Cgx2LtY"
      }
    },
    {
      "cell_type": "code",
      "source": [
        "binary_num=input(\"enter binary number:\")\n",
        "output=int(binary_num,2)\n",
        "print(f\" The decimal equivalent of {binary_num} is : {output}\")"
      ],
      "metadata": {
        "colab": {
          "base_uri": "https://localhost:8080/"
        },
        "id": "i8Q4t8XyKjB_",
        "outputId": "d45ab233-f177-4612-c878-e21d62bce8a9"
      },
      "execution_count": null,
      "outputs": [
        {
          "output_type": "stream",
          "name": "stdout",
          "text": [
            "enter binary number:10101\n",
            " The decimal equivalent of 10101 is : 21\n"
          ]
        }
      ]
    },
    {
      "cell_type": "markdown",
      "source": [
        "## 10. Matrix Transposition:\n",
        "Create a program that transposes a given matrix. The user should input the matrix as a list of lists, and the program should output the transposed matrix. For example, if the input is:"
      ],
      "metadata": {
        "id": "bhFgXCu52R3n"
      }
    },
    {
      "cell_type": "code",
      "source": [
        "matrix=[]\n",
        "while True:\n",
        "  row_input=input(\"Enter a row of numbers or 'ok':\")\n",
        "  if row_input.lower()=='ok':\n",
        "    break\n",
        "  row=[int(num) for num in row_input.split()]\n",
        "  matrix.append(row)\n",
        "transposed_matrix=[]\n",
        "for i in range(len(matrix[0])):\n",
        "  transposed_row=[]\n",
        "  for row in matrix:\n",
        "    transposed_row.append(row[i])\n",
        "  transposed_matrix.append(transposed_row)\n",
        "print(\"Original matrix:\")\n",
        "for row in matrix:\n",
        "  print(row)\n",
        "print(\"\\n Transposed matrix:\")\n",
        "for row in transposed_matrix:\n",
        "  print(row)"
      ],
      "metadata": {
        "id": "DhprwtQ02hWg",
        "colab": {
          "base_uri": "https://localhost:8080/"
        },
        "outputId": "e0610434-4a91-4835-aafd-3272d5403808"
      },
      "execution_count": null,
      "outputs": [
        {
          "output_type": "stream",
          "name": "stdout",
          "text": [
            "Enter a row of numbers or 'ok':3 4 5\n",
            "Enter a row of numbers or 'ok':6 7 8\n",
            "Enter a row of numbers or 'ok':1 2 3\n",
            "Enter a row of numbers or 'ok':ok\n",
            "Original matrix:\n",
            "[3, 4, 5]\n",
            "[6, 7, 8]\n",
            "[1, 2, 3]\n",
            "\n",
            " Transposed matrix:\n",
            "[3, 6, 1]\n",
            "[4, 7, 2]\n",
            "[5, 8, 3]\n"
          ]
        }
      ]
    },
    {
      "cell_type": "markdown",
      "source": [
        "# Part Three File Handling"
      ],
      "metadata": {
        "id": "ZlrFrill3Bl4"
      }
    },
    {
      "cell_type": "markdown",
      "source": [
        "## 11. program to open the text file and edit it"
      ],
      "metadata": {
        "id": "-9k8YJfF3BLW"
      }
    },
    {
      "cell_type": "code",
      "source": [
        "with open('file1.txt','r') as file:\n",
        "  con=file.read()\n",
        "con+=\"\\n hi...hello.\"\n",
        "with open('file1.txt','w') as file:\n",
        "  file.write(con)"
      ],
      "metadata": {
        "id": "Quy4F2UR3c04"
      },
      "execution_count": null,
      "outputs": []
    },
    {
      "cell_type": "markdown",
      "source": [
        "## 12. Program to list all the file in the directory\n"
      ],
      "metadata": {
        "id": "ovYWZKNH3AH_"
      }
    },
    {
      "cell_type": "code",
      "source": [
        "import os\n",
        "list_of_files=os.listdir(\"/content/sample_data\")\n",
        "print(\"All files in directory are:\\n\",list_of_files)"
      ],
      "metadata": {
        "id": "S260xGwo38vk",
        "colab": {
          "base_uri": "https://localhost:8080/"
        },
        "outputId": "d0261723-df29-4519-a2f2-da5a71ddeae9"
      },
      "execution_count": null,
      "outputs": [
        {
          "output_type": "stream",
          "name": "stdout",
          "text": [
            "All files in directory are:\n",
            " ['README.md', 'anscombe.json', 'data1.txt', 'file1.txt', 'california_housing_train.csv', 'mnist_test.csv', 'mnist_train_small.csv', 'california_housing_test.csv']\n"
          ]
        }
      ]
    },
    {
      "cell_type": "markdown",
      "source": [
        "## 13. program to find the name of list only the text file and only the image file specifically\n"
      ],
      "metadata": {
        "id": "pNalRqq-3mjE"
      }
    },
    {
      "cell_type": "code",
      "source": [
        "txt_f=[]\n",
        "csv_f=[]\n",
        "for _ in list_of_files:\n",
        "  if 'csv' in _:\n",
        "    csv_f.append(_)\n",
        "  else:\n",
        "    if 'txt' in _:\n",
        "      txt_f.append(_)\n",
        "print(\"csv files:\",csv_f)\n",
        "print(\"text files\",txt_f)"
      ],
      "metadata": {
        "colab": {
          "base_uri": "https://localhost:8080/"
        },
        "id": "MI9mVgLsYYi8",
        "outputId": "55f5c9b6-224b-4b6a-fa9e-408b75eb6e6c"
      },
      "execution_count": null,
      "outputs": [
        {
          "output_type": "stream",
          "name": "stdout",
          "text": [
            "csv files: ['california_housing_train.csv', 'mnist_test.csv', 'mnist_train_small.csv', 'california_housing_test.csv']\n",
            "text files ['data1.txt', 'file1.txt']\n"
          ]
        }
      ]
    },
    {
      "cell_type": "markdown",
      "source": [
        "## 14. Program to copy the the file and also the bundle of file to the specific location"
      ],
      "metadata": {
        "id": "7xVL49o739jv"
      }
    },
    {
      "cell_type": "code",
      "source": [
        "f1=open(\"/content/sample_data/file1.txt\",\"r\")\n",
        "f2=open(\"/content/sample_data/data1.txt\",\"w\")\n",
        "for i in f1:\n",
        "  f2.write(i)\n",
        "f1.close()\n",
        "f2.close()\n",
        "f3=open(\"/content/sample_data/data1.txt\",\"r\")\n",
        "print(f3.read())\n",
        "f3.close()"
      ],
      "metadata": {
        "id": "rlMl6YVH4I_z",
        "colab": {
          "base_uri": "https://localhost:8080/"
        },
        "outputId": "4f845416-e240-4847-e3d1-9c2c77f837f5"
      },
      "execution_count": null,
      "outputs": [
        {
          "output_type": "stream",
          "name": "stdout",
          "text": [
            "my first file1\n",
            "This is good\n",
            "\n",
            "\n"
          ]
        }
      ]
    },
    {
      "cell_type": "markdown",
      "source": [
        "## 15. Program to delete the specific file and folder"
      ],
      "metadata": {
        "id": "rzaMo5ZT4E7R"
      }
    },
    {
      "cell_type": "code",
      "source": [
        "os.remove(\"/content/Hello_Python/python.txt\")\n",
        "print(os.listdir())"
      ],
      "metadata": {
        "id": "Gpw4a5194oaa",
        "colab": {
          "base_uri": "https://localhost:8080/"
        },
        "outputId": "f19300aa-20e8-4255-e10d-b1aa77ef1eda"
      },
      "execution_count": null,
      "outputs": [
        {
          "output_type": "stream",
          "name": "stdout",
          "text": [
            "['.config', 'Hello_Python', 'sample_data', 'data1.txt', '.ipynb_checkpoints', 'file1.txt']\n"
          ]
        }
      ]
    },
    {
      "cell_type": "markdown",
      "source": [],
      "metadata": {
        "id": "O2PS1zXT4pF5"
      }
    }
  ]
}