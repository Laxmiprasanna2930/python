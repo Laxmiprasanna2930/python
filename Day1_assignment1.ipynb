{
  "nbformat": 4,
  "nbformat_minor": 0,
  "metadata": {
    "colab": {
      "provenance": [],
      "authorship_tag": "ABX9TyNfxvx5AWOAzJnXgvYN7fSe",
      "include_colab_link": true
    },
    "kernelspec": {
      "name": "python3",
      "display_name": "Python 3"
    },
    "language_info": {
      "name": "python"
    }
  },
  "cells": [
    {
      "cell_type": "markdown",
      "metadata": {
        "id": "view-in-github",
        "colab_type": "text"
      },
      "source": [
        "<a href=\"https://colab.research.google.com/github/Laxmiprasanna2930/python/blob/main/Day1_assignment1.ipynb\" target=\"_parent\"><img src=\"https://colab.research.google.com/assets/colab-badge.svg\" alt=\"Open In Colab\"/></a>"
      ]
    },
    {
      "cell_type": "code",
      "execution_count": null,
      "metadata": {
        "colab": {
          "base_uri": "https://localhost:8080/"
        },
        "id": "ghVcj8v92bLi",
        "outputId": "96af13b2-cd10-4161-cb2a-5e062dfb1592"
      },
      "outputs": [
        {
          "output_type": "stream",
          "name": "stdout",
          "text": [
            "The strings do not have same identity\n"
          ]
        }
      ],
      "source": [
        "#program to confirm that two strings have the same identity\n",
        "a=\"hello\"\n",
        "b=\"hello\"\n",
        "if a is b:\n",
        "  print(\"The strings have same identity\")\n",
        "else:\n",
        "  print(\"The strings do not have same identity\")"
      ]
    },
    {
      "cell_type": "code",
      "source": [
        "#program to find the length and index of the string\n",
        "s=\"sravani is intelligent\"\n",
        "print(len(s))\n",
        "print(s.index('is'))"
      ],
      "metadata": {
        "colab": {
          "base_uri": "https://localhost:8080/"
        },
        "id": "IqkYdDJ78vY6",
        "outputId": "ca6d539c-0c5c-47bf-987a-2df51eb760d5"
      },
      "execution_count": null,
      "outputs": [
        {
          "output_type": "stream",
          "name": "stdout",
          "text": [
            "22\n",
            "8\n"
          ]
        }
      ]
    },
    {
      "cell_type": "code",
      "source": [
        "#program to check a string contain specific substring\n",
        "a=\"They are good friends\"\n",
        "b=\"good\"\n",
        "if b in a:\n",
        "  print(\"Yes\")\n",
        "else:\n",
        "  print(\"No\")"
      ],
      "metadata": {
        "colab": {
          "base_uri": "https://localhost:8080/"
        },
        "id": "hY5gV7Lf9EJh",
        "outputId": "388977a1-d4e7-4422-edbd-88eaf394a89b"
      },
      "execution_count": null,
      "outputs": [
        {
          "output_type": "stream",
          "name": "stdout",
          "text": [
            "Yes\n"
          ]
        }
      ]
    },
    {
      "cell_type": "code",
      "source": [
        "#program to take string from backward with two step difference\n",
        "a=\"Laxmiprasanna\"\n",
        "print(a[::-2])"
      ],
      "metadata": {
        "colab": {
          "base_uri": "https://localhost:8080/"
        },
        "id": "SDhXgrsyAf_w",
        "outputId": "1613fde6-41f7-4841-957e-4487a2c069a4"
      },
      "execution_count": null,
      "outputs": [
        {
          "output_type": "stream",
          "name": "stdout",
          "text": [
            "ansrixL\n"
          ]
        }
      ]
    },
    {
      "cell_type": "code",
      "source": [
        "#program to find the index of the last element\n",
        "a=\"prasanna\"\n",
        "print(len(a)-1)"
      ],
      "metadata": {
        "colab": {
          "base_uri": "https://localhost:8080/"
        },
        "id": "gQZdAVTtBDAt",
        "outputId": "6f67ad4d-7212-4d8d-fdbf-acf6b4c2da7b"
      },
      "execution_count": null,
      "outputs": [
        {
          "output_type": "stream",
          "name": "stdout",
          "text": [
            "7\n"
          ]
        }
      ]
    },
    {
      "cell_type": "code",
      "source": [
        "#two ways to concatinate the string\n",
        "a=\"Hello\"\n",
        "b=\"world\"\n",
        "c=a+\" \"+b\n",
        "print(c)\n",
        "d=\" \".join([a,b])\n",
        "print(d)"
      ],
      "metadata": {
        "colab": {
          "base_uri": "https://localhost:8080/"
        },
        "id": "WKhRqLC4AunB",
        "outputId": "c48f5463-2e01-48cd-cbca-efa829fcda59"
      },
      "execution_count": null,
      "outputs": [
        {
          "output_type": "stream",
          "name": "stdout",
          "text": [
            "Hello world\n",
            "Hello world\n"
          ]
        }
      ]
    }
  ]
}