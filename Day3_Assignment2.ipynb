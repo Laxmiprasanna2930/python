{
  "nbformat": 4,
  "nbformat_minor": 0,
  "metadata": {
    "colab": {
      "provenance": [],
      "include_colab_link": true
    },
    "kernelspec": {
      "name": "python3",
      "display_name": "Python 3"
    },
    "language_info": {
      "name": "python"
    }
  },
  "cells": [
    {
      "cell_type": "markdown",
      "metadata": {
        "id": "view-in-github",
        "colab_type": "text"
      },
      "source": [
        "<a href=\"https://colab.research.google.com/github/Laxmiprasanna2930/python/blob/main/Day3_Assignment2.ipynb\" target=\"_parent\"><img src=\"https://colab.research.google.com/assets/colab-badge.svg\" alt=\"Open In Colab\"/></a>"
      ]
    },
    {
      "cell_type": "markdown",
      "source": [
        "## Write a python program to crate a lambda funciotn that adds 15 to a given numebr\n"
      ],
      "metadata": {
        "id": "Cu2MTBpAH98v"
      }
    },
    {
      "cell_type": "code",
      "source": [
        "adding_15=lambda x:x+15"
      ],
      "metadata": {
        "id": "QBZKf4hYIYh-"
      },
      "execution_count": 3,
      "outputs": []
    },
    {
      "cell_type": "code",
      "source": [
        "num=3\n",
        "res=adding_15(num)\n",
        "print(res)"
      ],
      "metadata": {
        "id": "ERMc1QfnIYgd",
        "colab": {
          "base_uri": "https://localhost:8080/"
        },
        "outputId": "91ba2421-f93f-42d2-ba4f-9757535be0d2"
      },
      "execution_count": 4,
      "outputs": [
        {
          "output_type": "stream",
          "name": "stdout",
          "text": [
            "18\n"
          ]
        }
      ]
    },
    {
      "cell_type": "markdown",
      "source": [
        "## Write a funciton to create a prime number generator"
      ],
      "metadata": {
        "id": "QvheE-ZfIJFc"
      }
    },
    {
      "cell_type": "code",
      "source": [
        "def is_prime(n):\n",
        "  if n<2:\n",
        "    return False\n",
        "  for i in range(2,int(n**0.5)+1):\n",
        "    if n%i==0:\n",
        "      return False\n",
        "  return True\n",
        "def prime_generator():\n",
        "  n=2\n",
        "  while True:\n",
        "    if is_prime(n):\n",
        "      yield n\n",
        "    n+=1\n",
        "gen=prime_generator()\n",
        "for i in range(10):\n",
        "  print(next(gen))\n"
      ],
      "metadata": {
        "id": "z19r-AaMIIlC",
        "colab": {
          "base_uri": "https://localhost:8080/"
        },
        "outputId": "4d29e8aa-3b9a-4618-e613-dcc996d6ccab"
      },
      "execution_count": 5,
      "outputs": [
        {
          "output_type": "stream",
          "name": "stdout",
          "text": [
            "2\n",
            "3\n",
            "5\n",
            "7\n",
            "11\n",
            "13\n",
            "17\n",
            "19\n",
            "23\n",
            "29\n"
          ]
        }
      ]
    },
    {
      "cell_type": "markdown",
      "source": [
        "## Create a lambda funtion to filter out the even numebr from a given list"
      ],
      "metadata": {
        "id": "fgG1qcgaIZKL"
      }
    },
    {
      "cell_type": "code",
      "source": [
        "nums=[1,8,5,2,10,7,4,9,3,6]\n",
        "even_numbers=list(filter(lambda x:x%2==0,nums))\n",
        "print(even_numbers)"
      ],
      "metadata": {
        "id": "FWQS-SgjImHw",
        "colab": {
          "base_uri": "https://localhost:8080/"
        },
        "outputId": "7dfd4509-b2c9-40f2-9387-7dcb6e4da279"
      },
      "execution_count": 6,
      "outputs": [
        {
          "output_type": "stream",
          "name": "stdout",
          "text": [
            "[8, 2, 10, 4, 6]\n"
          ]
        }
      ]
    },
    {
      "cell_type": "markdown",
      "source": [
        "## Create a funciton for prime numebr generator"
      ],
      "metadata": {
        "id": "c1H7iXqDIuJI"
      }
    },
    {
      "cell_type": "code",
      "source": [
        "def prime_gen():\n",
        "  primes=[]\n",
        "  n=2\n",
        "  while True:\n",
        "    is_prime=all(n%prime!=0 for prime in primes)\n",
        "    if is_prime:\n",
        "      yield n\n",
        "      primes.append(n)\n",
        "    n+=1\n",
        "gen=prime_gen()\n",
        "for i in range(10):\n",
        "  print(next(gen))"
      ],
      "metadata": {
        "id": "B6zt1ESKI2T4",
        "colab": {
          "base_uri": "https://localhost:8080/"
        },
        "outputId": "d48b0784-236f-4b63-e1cf-d51d1142c43d"
      },
      "execution_count": 12,
      "outputs": [
        {
          "output_type": "stream",
          "name": "stdout",
          "text": [
            "2\n",
            "3\n",
            "5\n",
            "7\n",
            "11\n",
            "13\n",
            "17\n",
            "19\n",
            "23\n",
            "29\n"
          ]
        }
      ]
    },
    {
      "cell_type": "markdown",
      "source": [
        "## create funciton for fibbonacci series generator"
      ],
      "metadata": {
        "id": "NMp0TAZaI18z"
      }
    },
    {
      "cell_type": "code",
      "source": [
        "def fibo_gen():\n",
        "  a,b=0,1\n",
        "  while True:\n",
        "    yield a\n",
        "    a,b=b,a+b\n",
        "fib_gen=fibo_gen()\n",
        "for i in range(10):\n",
        " print(next(fib_gen))"
      ],
      "metadata": {
        "id": "CljxQ_d2PHzK",
        "colab": {
          "base_uri": "https://localhost:8080/"
        },
        "outputId": "8354f4c1-0aaf-436f-ab81-75864cb90e29"
      },
      "execution_count": 13,
      "outputs": [
        {
          "output_type": "stream",
          "name": "stdout",
          "text": [
            "0\n",
            "1\n",
            "1\n",
            "2\n",
            "3\n",
            "5\n",
            "8\n",
            "13\n",
            "21\n",
            "34\n"
          ]
        }
      ]
    }
  ]
}