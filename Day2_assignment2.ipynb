{
  "nbformat": 4,
  "nbformat_minor": 0,
  "metadata": {
    "colab": {
      "provenance": [],
      "authorship_tag": "ABX9TyMh4wf/WaGsHd5ydgbTpPWa",
      "include_colab_link": true
    },
    "kernelspec": {
      "name": "python3",
      "display_name": "Python 3"
    },
    "language_info": {
      "name": "python"
    }
  },
  "cells": [
    {
      "cell_type": "markdown",
      "metadata": {
        "id": "view-in-github",
        "colab_type": "text"
      },
      "source": [
        "<a href=\"https://colab.research.google.com/github/Laxmiprasanna2930/python/blob/main/Day2_assignment2.ipynb\" target=\"_parent\"><img src=\"https://colab.research.google.com/assets/colab-badge.svg\" alt=\"Open In Colab\"/></a>"
      ]
    },
    {
      "cell_type": "code",
      "execution_count": null,
      "metadata": {
        "id": "qhCf2Qd771_O"
      },
      "outputs": [],
      "source": [
        "# Difference between the list and tuple"
      ]
    },
    {
      "cell_type": "markdown",
      "source": [
        "**List:**\n",
        "1.List is mutable.We can add,remove,modify the elements in the list.\n",
        "2.It is defined using square brackets '[]'\n",
        "3.It supports methods like append(),extend(),remove(),pop()\n",
        "**Tuple:**\n",
        "1.Tuple is immutable.We cannot add,remove,modify the elements once it has created\n",
        "2.It is defined using parenthesis '()'\n",
        "3.It supports few methods like count(),index()"
      ],
      "metadata": {
        "id": "SRXDjoPhcX9P"
      }
    },
    {
      "cell_type": "code",
      "source": [
        "# How list is different from an array"
      ],
      "metadata": {
        "id": "UfsWXUf58T2q"
      },
      "execution_count": null,
      "outputs": []
    },
    {
      "cell_type": "markdown",
      "source": [
        "**List:**\n",
        "Lists are mutable.Lists can hold elements of different types.Lists are part of the core python language and doesn't require importing any modules.\n",
        "**Array:**\n",
        "Arrays can be mutable or immutable,depending on the specific array type used.Arrays can hold the elements of same data type.Arrays are typically implemented using 'array' module or specilized libraries like NumPy.\n",
        "\n"
      ],
      "metadata": {
        "id": "sXKkLTXQeZw4"
      }
    },
    {
      "cell_type": "code",
      "source": [
        "# Use the python list append(),copy(),clear,count,extends(),index(),insert(),pop(),reverse(),sort(),min(),max(),and sum()\n",
        "a=[1,5,9,5]\n",
        "#append an element\n",
        "a.append(8)\n",
        "print(\"Appended 8:\",a)"
      ],
      "metadata": {
        "colab": {
          "base_uri": "https://localhost:8080/"
        },
        "id": "h6mNuXrG8bWQ",
        "outputId": "262873a4-45db-4ddf-a34d-5ea466a48112"
      },
      "execution_count": 2,
      "outputs": [
        {
          "output_type": "stream",
          "name": "stdout",
          "text": [
            "Appended 8: [1, 5, 9, 5, 8]\n"
          ]
        }
      ]
    },
    {
      "cell_type": "code",
      "source": [
        "#copy the list\n",
        "b=a.copy()\n",
        "print(\"copied list:\",b)\n"
      ],
      "metadata": {
        "colab": {
          "base_uri": "https://localhost:8080/"
        },
        "id": "gwj_TFyoJXaR",
        "outputId": "b846c14b-b35f-419b-f813-e548b01376d8"
      },
      "execution_count": 4,
      "outputs": [
        {
          "output_type": "stream",
          "name": "stdout",
          "text": [
            "copied list: [1, 5, 9, 5, 8]\n"
          ]
        }
      ]
    },
    {
      "cell_type": "code",
      "source": [
        "#clear elements from the list\n",
        "a.clear()\n",
        "print(\"cleared list:\",a)\n"
      ],
      "metadata": {
        "colab": {
          "base_uri": "https://localhost:8080/"
        },
        "id": "BSA_BP6LJdle",
        "outputId": "e6d78e00-282e-4a31-dc02-7c3db0f86547"
      },
      "execution_count": 5,
      "outputs": [
        {
          "output_type": "stream",
          "name": "stdout",
          "text": [
            "cleared list: []\n"
          ]
        }
      ]
    },
    {
      "cell_type": "code",
      "source": [
        "#count the occurence of element\n",
        "c=b.count(5)\n",
        "print(\"count of 5:\",c)"
      ],
      "metadata": {
        "colab": {
          "base_uri": "https://localhost:8080/"
        },
        "id": "3p3sshnoJpz1",
        "outputId": "3bd55207-00b8-4ea3-b36b-b8b0256fe518"
      },
      "execution_count": 6,
      "outputs": [
        {
          "output_type": "stream",
          "name": "stdout",
          "text": [
            "count of 5: 2\n"
          ]
        }
      ]
    },
    {
      "cell_type": "code",
      "source": [
        "#extend the list\n",
        "ext=[3,2,8]\n",
        "b.extend(ext)\n",
        "print(\"list after extending is:\",b)"
      ],
      "metadata": {
        "colab": {
          "base_uri": "https://localhost:8080/"
        },
        "id": "GPjg9uOvN38r",
        "outputId": "bee50a52-7af4-4377-b49b-a306ebd9403a"
      },
      "execution_count": 7,
      "outputs": [
        {
          "output_type": "stream",
          "name": "stdout",
          "text": [
            "list after extending is: [1, 5, 9, 5, 8, 3, 2, 8]\n"
          ]
        }
      ]
    },
    {
      "cell_type": "code",
      "source": [
        "#getting index of the element\n",
        "ind=b.index(3)\n",
        "print(\"index of 3:\",ind)"
      ],
      "metadata": {
        "colab": {
          "base_uri": "https://localhost:8080/"
        },
        "id": "rylJqgbLN9Oj",
        "outputId": "ad03d022-7910-4565-f87e-dce9c2105e2d"
      },
      "execution_count": 8,
      "outputs": [
        {
          "output_type": "stream",
          "name": "stdout",
          "text": [
            "index of 3: 5\n"
          ]
        }
      ]
    },
    {
      "cell_type": "code",
      "source": [
        "#inserting an element at specific position\n",
        "b.insert(5,6)\n",
        "print(\"after insertion list is:\",b)\n"
      ],
      "metadata": {
        "colab": {
          "base_uri": "https://localhost:8080/"
        },
        "id": "W4c2kikoOEgH",
        "outputId": "f5a7073f-6a42-4ba0-904a-5633cb8a26ef"
      },
      "execution_count": 9,
      "outputs": [
        {
          "output_type": "stream",
          "name": "stdout",
          "text": [
            "after insertion list is: [1, 5, 9, 5, 8, 6, 3, 2, 8]\n"
          ]
        }
      ]
    },
    {
      "cell_type": "code",
      "source": [
        "#pop\n",
        "s=b.pop()\n",
        "print(\"popped element:\",s)"
      ],
      "metadata": {
        "colab": {
          "base_uri": "https://localhost:8080/"
        },
        "id": "6Ug8CNWDOKzq",
        "outputId": "30ccdc21-959b-42b2-e58d-9895ce69a3aa"
      },
      "execution_count": 10,
      "outputs": [
        {
          "output_type": "stream",
          "name": "stdout",
          "text": [
            "popped element: 8\n"
          ]
        }
      ]
    },
    {
      "cell_type": "code",
      "source": [
        "#reverse the order of elements in the list\n",
        "b.reverse()\n",
        "print(\"reversed list:\",b)"
      ],
      "metadata": {
        "colab": {
          "base_uri": "https://localhost:8080/"
        },
        "id": "yhlNAZ1MOQAm",
        "outputId": "27033f14-5d78-4e8e-d23c-984ae2ff6aee"
      },
      "execution_count": 11,
      "outputs": [
        {
          "output_type": "stream",
          "name": "stdout",
          "text": [
            "reversed list: [2, 3, 6, 8, 5, 9, 5, 1]\n"
          ]
        }
      ]
    },
    {
      "cell_type": "code",
      "source": [
        "#sort the list\n",
        "b.sort()\n",
        "print(\"sorted list:\",b)"
      ],
      "metadata": {
        "colab": {
          "base_uri": "https://localhost:8080/"
        },
        "id": "a6AItGidOS5S",
        "outputId": "8aeaf827-3904-4e2f-dca1-c7a0937a217a"
      },
      "execution_count": 12,
      "outputs": [
        {
          "output_type": "stream",
          "name": "stdout",
          "text": [
            "sorted list: [1, 2, 3, 5, 5, 6, 8, 9]\n"
          ]
        }
      ]
    },
    {
      "cell_type": "code",
      "source": [
        "#finding minimum element\n",
        "min_val=min(b)\n",
        "print(\"minimum value:\",min_val)"
      ],
      "metadata": {
        "colab": {
          "base_uri": "https://localhost:8080/"
        },
        "id": "Pf8v36PXOVdb",
        "outputId": "6b9879cd-c46b-439d-bfd8-425ab47fdfaa"
      },
      "execution_count": 13,
      "outputs": [
        {
          "output_type": "stream",
          "name": "stdout",
          "text": [
            "minimum value: 1\n"
          ]
        }
      ]
    },
    {
      "cell_type": "code",
      "source": [
        "#finding maximum element\n",
        "max_val=max(b)\n",
        "print(\"maximum value:\",max_val)"
      ],
      "metadata": {
        "colab": {
          "base_uri": "https://localhost:8080/"
        },
        "id": "y53PPp1zOX7C",
        "outputId": "b5cd5c5b-eee6-4d93-eb6f-2cc50f4a24eb"
      },
      "execution_count": 14,
      "outputs": [
        {
          "output_type": "stream",
          "name": "stdout",
          "text": [
            "maximum value: 9\n"
          ]
        }
      ]
    },
    {
      "cell_type": "code",
      "source": [
        "#finding sum of elements in the list\n",
        "sum_ele=sum(b)\n",
        "print(\"sum of elements:\",sum_ele)"
      ],
      "metadata": {
        "colab": {
          "base_uri": "https://localhost:8080/"
        },
        "id": "I_-EwIyHObUB",
        "outputId": "ee444a6b-bf23-4302-b65a-1770cd1b7199"
      },
      "execution_count": 15,
      "outputs": [
        {
          "output_type": "stream",
          "name": "stdout",
          "text": [
            "sum of elements: 39\n"
          ]
        }
      ]
    },
    {
      "cell_type": "code",
      "source": [
        "# How would you divide the list into two parts\n",
        "# by using slicing we can divide list into two parts\n",
        "a=[1,6,5,2,4,8]\n",
        "mid=len(a)//2\n",
        "first=a[:mid]\n",
        "second=a[mid:]\n",
        "print(\"original list:\",a)\n",
        "print(\"first part:\",first)\n",
        "print(\"second part:\",second)\n"
      ],
      "metadata": {
        "colab": {
          "base_uri": "https://localhost:8080/"
        },
        "id": "v0Uli_XG8wM4",
        "outputId": "1b0fa329-b74a-463a-8706-e28cd946c9e1"
      },
      "execution_count": 16,
      "outputs": [
        {
          "output_type": "stream",
          "name": "stdout",
          "text": [
            "original list: [1, 6, 5, 2, 4, 8]\n",
            "first part: [1, 6, 5]\n",
            "second part: [2, 4, 8]\n"
          ]
        }
      ]
    },
    {
      "cell_type": "code",
      "source": [
        "# How to filter the multiple of 3 from a given list and the remove the odd number from the new filtered list\n",
        "a=[1,2,3,4,5,6,7,8,9,21,23,24]\n",
        "b=[]\n",
        "c=[]\n",
        "for i in a:\n",
        "  if i%3==0:\n",
        "    b.append(i)\n",
        "print(\"filtered list:\",b)\n",
        "for i in b:\n",
        "  if i%2==0:\n",
        "    c.append(i)\n",
        "print(\"output list:\",c)\n",
        "\n"
      ],
      "metadata": {
        "colab": {
          "base_uri": "https://localhost:8080/"
        },
        "id": "YoRoALk586Zu",
        "outputId": "947a0339-acfb-475d-b94e-95f86efc0e08"
      },
      "execution_count": 17,
      "outputs": [
        {
          "output_type": "stream",
          "name": "stdout",
          "text": [
            "filtered list: [3, 6, 9, 21, 24]\n",
            "output list: [6, 24]\n"
          ]
        }
      ]
    },
    {
      "cell_type": "code",
      "source": [
        "# How you can access keys and values simultaneously and update its value\n",
        "dictionary={'a':1,'b':2,'c':3,'d':4}\n",
        "#accessing keys and values\n",
        "for key,val in dictionary.items():\n",
        "  print(f\"key:{key},value:{val}\")\n",
        "#updating the value\n",
        "a_key='c'\n",
        "new_val=9\n",
        "dictionary[a_key]=new_val\n",
        "print(\"updated dictionary:\",dictionary)\n"
      ],
      "metadata": {
        "colab": {
          "base_uri": "https://localhost:8080/"
        },
        "id": "ycpNs_KD95rN",
        "outputId": "ed2a7459-3971-42c7-d11c-7f300f41ab43"
      },
      "execution_count": 18,
      "outputs": [
        {
          "output_type": "stream",
          "name": "stdout",
          "text": [
            "key:a,value:1\n",
            "key:b,value:2\n",
            "key:c,value:3\n",
            "key:d,value:4\n",
            "updated dictionary: {'a': 1, 'b': 2, 'c': 9, 'd': 4}\n"
          ]
        }
      ]
    },
    {
      "cell_type": "code",
      "source": [
        "# Write python program to join,merge,concatenate the two dictionaries\n",
        "dict1={'a':1,'b':5}\n",
        "dict2={'c':6,'d':8}\n",
        "#joining the dictionaries\n",
        "join_dict=dict1 | dict2\n",
        "print(\"joined dictionary:\",join_dict)\n",
        "#merging  the dictionaries\n",
        "merged_dict={**dict1,**dict2}\n",
        "print(\"merged dictionary:\",merged_dict)\n",
        "#concatenate the dictionaries\n",
        "concatenated_dict={**dict1,**dict2}\n",
        "print(\"concatenated dictionary:\",concatenated_dict)\n"
      ],
      "metadata": {
        "colab": {
          "base_uri": "https://localhost:8080/"
        },
        "id": "25SGnvoK-JXw",
        "outputId": "fe9649a1-1e27-4ca0-a7f1-77446dc3b9cc"
      },
      "execution_count": 19,
      "outputs": [
        {
          "output_type": "stream",
          "name": "stdout",
          "text": [
            "joined dictionary: {'a': 1, 'b': 5, 'c': 6, 'd': 8}\n",
            "merged dictionary: {'a': 1, 'b': 5, 'c': 6, 'd': 8}\n",
            "concatenated dictionary: {'a': 1, 'b': 5, 'c': 6, 'd': 8}\n"
          ]
        }
      ]
    },
    {
      "cell_type": "code",
      "source": [
        "# How would you check a specific keys from the dictionary\n",
        "dict1={'a':5,'b':6,'c':2,'d':9}\n",
        "key='a'\n",
        "if key in dict1:\n",
        "  print(f\"The key '{key}' exists in the dictionary\")\n",
        "else:\n",
        "  print(f\"The key '{key}' does not exists in the dictionary\")"
      ],
      "metadata": {
        "colab": {
          "base_uri": "https://localhost:8080/"
        },
        "id": "3DRCzVXk-SS1",
        "outputId": "4fbfc6c2-ee55-4155-9384-db8a977904bf"
      },
      "execution_count": 20,
      "outputs": [
        {
          "output_type": "stream",
          "name": "stdout",
          "text": [
            "The key 'a' exists in the dictionary\n"
          ]
        }
      ]
    },
    {
      "cell_type": "code",
      "source": [
        "# Write a python program to find the unique vowel present in the sentence\n",
        "sent=input()\n",
        "a=set()\n",
        "b=\"aeiou\"\n",
        "for i in sent:\n",
        "  if i.lower() in b:\n",
        "    a.add(i.lower())\n",
        "c=sorted(list(a))\n",
        "print(c)"
      ],
      "metadata": {
        "colab": {
          "base_uri": "https://localhost:8080/"
        },
        "id": "snkaYfyU-fY5",
        "outputId": "d0a3bf77-960a-463d-f545-ea02e94267d4"
      },
      "execution_count": 21,
      "outputs": [
        {
          "output_type": "stream",
          "name": "stdout",
          "text": [
            "sriya\n",
            "['a', 'i']\n"
          ]
        }
      ]
    },
    {
      "cell_type": "code",
      "source": [
        "# We know that tuple is immutable,do any thing and add element to the tuples\n",
        "tup1=(2,3,4)\n",
        "tup2=tup1+(6,7)\n",
        "print(tup1)\n",
        "print(tup2)"
      ],
      "metadata": {
        "id": "QbwkF8_C-pIk",
        "colab": {
          "base_uri": "https://localhost:8080/"
        },
        "outputId": "e1d2905d-8e43-4f26-d5e1-b162b67a85d6"
      },
      "execution_count": 22,
      "outputs": [
        {
          "output_type": "stream",
          "name": "stdout",
          "text": [
            "(2, 3, 4)\n",
            "(2, 3, 4, 6, 7)\n"
          ]
        }
      ]
    },
    {
      "cell_type": "code",
      "source": [
        "# How would you sum the list of tuple and sum of tuple of list\n",
        "list_of_tuple=[(2,3),(4,5),(6,4)]\n",
        "tuple_of_list=([2,3],[4,5],[6,4])\n",
        "sum_of_list=[]\n",
        "sum_of_tuple=[]\n",
        "for i in list_of_tuple:\n",
        "  sum_of_list.append(sum(i))\n",
        "print(\"sum of list of tuple:\",sum_of_list)\n",
        "for i in tuple_of_list:\n",
        "  sum_of_tuple.append(sum(i))\n",
        "print(\"sum of tuple of list:\",tuple(sum_of_tuple))\n",
        "\n"
      ],
      "metadata": {
        "id": "Pl4iXoHj-4d8",
        "colab": {
          "base_uri": "https://localhost:8080/"
        },
        "outputId": "53467b00-4312-448b-f091-d194458a4c9e"
      },
      "execution_count": 23,
      "outputs": [
        {
          "output_type": "stream",
          "name": "stdout",
          "text": [
            "sum of list of tuple: [5, 9, 10]\n",
            "sum of tuple of list: (5, 9, 10)\n"
          ]
        }
      ]
    },
    {
      "cell_type": "code",
      "source": [
        "# Find the frequency of the values in the given dictionary\n",
        "dict1={'a':5,'b':4,'c':3,'d':4}\n",
        "freq={}\n",
        "for val in dict1.values():\n",
        "  if val in freq:\n",
        "    freq[val]+=1\n",
        "  else:\n",
        "    freq[val]=1\n",
        "print(\"frequency of the values:\",freq)"
      ],
      "metadata": {
        "id": "SIHmCLn6_E7Y",
        "colab": {
          "base_uri": "https://localhost:8080/"
        },
        "outputId": "49bf99dc-8a11-4a15-9ed8-4b0ac29a23c7"
      },
      "execution_count": 24,
      "outputs": [
        {
          "output_type": "stream",
          "name": "stdout",
          "text": [
            "frequency of the values: {5: 1, 4: 2, 3: 1}\n"
          ]
        }
      ]
    }
  ]
}